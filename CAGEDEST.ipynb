{
 "cells": [
  {
   "cell_type": "markdown",
   "metadata": {
    "toc": true
   },
   "source": [
    "<h1>Table of Contents<span class=\"tocSkip\"></span></h1>\n",
    "<div class=\"toc\"><ul class=\"toc-item\"><li><span><a href=\"#CAGED\" data-toc-modified-id=\"CAGED-1\"><span class=\"toc-item-num\">1&nbsp;&nbsp;</span>CAGED</a></span><ul class=\"toc-item\"><li><span><a href=\"#Introdução/Introduction\" data-toc-modified-id=\"Introdução/Introduction-1.1\"><span class=\"toc-item-num\">1.1&nbsp;&nbsp;</span>Introdução/Introduction</a></span></li><li><span><a href=\"#Download\" data-toc-modified-id=\"Download-1.2\"><span class=\"toc-item-num\">1.2&nbsp;&nbsp;</span>Download</a></span></li></ul></li><li><span><a href=\"#Tratamento-dos-dados\" data-toc-modified-id=\"Tratamento-dos-dados-2\"><span class=\"toc-item-num\">2&nbsp;&nbsp;</span>Tratamento dos dados</a></span><ul class=\"toc-item\"><li><span><a href=\"#Bibliotecas-utilizadas\" data-toc-modified-id=\"Bibliotecas-utilizadas-2.1\"><span class=\"toc-item-num\">2.1&nbsp;&nbsp;</span>Bibliotecas utilizadas</a></span></li><li><span><a href=\"#Download-dos-Arquivos\" data-toc-modified-id=\"Download-dos-Arquivos-2.2\"><span class=\"toc-item-num\">2.2&nbsp;&nbsp;</span>Download dos Arquivos</a></span></li><li><span><a href=\"#Tratamento-dos-Dados\" data-toc-modified-id=\"Tratamento-dos-Dados-2.3\"><span class=\"toc-item-num\">2.3&nbsp;&nbsp;</span>Tratamento dos Dados</a></span><ul class=\"toc-item\"><li><span><a href=\"#Preparação-do-Layout\" data-toc-modified-id=\"Preparação-do-Layout-2.3.1\"><span class=\"toc-item-num\">2.3.1&nbsp;&nbsp;</span>Preparação do Layout</a></span></li><li><span><a href=\"#Leitura-dos-arquivos\" data-toc-modified-id=\"Leitura-dos-arquivos-2.3.2\"><span class=\"toc-item-num\">2.3.2&nbsp;&nbsp;</span>Leitura dos arquivos</a></span></li><li><span><a href=\"#Leitura-dos-Arquivos-CAGEDEST\" data-toc-modified-id=\"Leitura-dos-Arquivos-CAGEDEST-2.3.3\"><span class=\"toc-item-num\">2.3.3&nbsp;&nbsp;</span>Leitura dos Arquivos CAGEDEST</a></span></li><li><span><a href=\"#Aplicação-dos-deparas-na-tabela-do-CAGEDEST\" data-toc-modified-id=\"Aplicação-dos-deparas-na-tabela-do-CAGEDEST-2.3.4\"><span class=\"toc-item-num\">2.3.4&nbsp;&nbsp;</span>Aplicação dos deparas na tabela do CAGEDEST</a></span></li></ul></li><li><span><a href=\"#Limpeza-final-da-tabela\" data-toc-modified-id=\"Limpeza-final-da-tabela-2.4\"><span class=\"toc-item-num\">2.4&nbsp;&nbsp;</span>Limpeza final da tabela</a></span></li></ul></li><li><span><a href=\"#Exportação\" data-toc-modified-id=\"Exportação-3\"><span class=\"toc-item-num\">3&nbsp;&nbsp;</span>Exportação</a></span></li><li><span><a href=\"#Versão-Resumida\" data-toc-modified-id=\"Versão-Resumida-4\"><span class=\"toc-item-num\">4&nbsp;&nbsp;</span>Versão Resumida</a></span></li></ul></div>"
   ]
  },
  {
   "cell_type": "markdown",
   "metadata": {},
   "source": [
    "# CAGED\n",
    "## Introdução/Introduction\n",
    "Os dados que serão tratados abaixo são dados do CAGED (Cadastro Geral de Empregados e Desempregados) http://trabalho.gov.br/trabalhador-caged e servirão de apoio a análises"
   ]
  },
  {
   "cell_type": "markdown",
   "metadata": {},
   "source": [
    "## Download\n",
    "Os dados estão disponíveis no link ftp://ftp.mtps.gov.br/pdet/microdados/CAGED e possui dados desde 2007\n",
    "Esses dados são atualizados mensalmente e disponibilizados no formato *.7z* com tamanho aproximado de 24MB. Existe também um arquivo chamado *CAGEDEST_layout_Atualizado.xls* de 1MB que nos auxiliará no tratamento dos arquivos"
   ]
  },
  {
   "cell_type": "markdown",
   "metadata": {},
   "source": [
    "# Tratamento dos dados\n",
    "##  Bibliotecas utilizadas"
   ]
  },
  {
   "cell_type": "code",
   "execution_count": null,
   "metadata": {
    "ExecuteTime": {
     "end_time": "2020-04-08T19:07:34.441808Z",
     "start_time": "2020-04-08T19:07:32.074139Z"
    }
   },
   "outputs": [],
   "source": [
    "import pandas as pd\n",
    "import urllib\n",
    "import os\n",
    "import pyunpack\n",
    "from glob import glob\n",
    "from tqdm import tqdm\n",
    "from bs4 import BeautifulSoup"
   ]
  },
  {
   "cell_type": "markdown",
   "metadata": {},
   "source": [
    "## Download dos Arquivos"
   ]
  },
  {
   "cell_type": "code",
   "execution_count": null,
   "metadata": {
    "ExecuteTime": {
     "end_time": "2020-04-01T00:18:33.116904Z",
     "start_time": "2020-03-31T23:42:30.028845Z"
    },
    "scrolled": true
   },
   "outputs": [],
   "source": [
    "# Baixa todos os arquivos\n",
    "months = ['01','02','03','04','05','06','07','08','09','10','11','12']\n",
    "years = ['2007','2008','2009','2010','2011','2012','2013','2014','2015','2016','2017','2018','2019']\n",
    "\n",
    "for i,y in tqdm(enumerate(years)):\n",
    "    for j,m in enumerate(months):\n",
    "        file = 'CAGEDEST_'+m+y+'.7z'\n",
    "        urllib.request.urlretrieve('ftp://ftp.mtps.gov.br/pdet/microdados/CAGED/{}/{}'.format(y,file),'CAGED/{}'.format(file))\n",
    "        pyunpack.Archive('CAGED/{}'.format(file)).extractall('CAGED/')\n",
    "        "
   ]
  },
  {
   "cell_type": "markdown",
   "metadata": {},
   "source": [
    "## Tratamento dos Dados\n",
    "### Preparação do Layout\n",
    "Das planilhas de leiaute, temos:\n",
    "- 0 -> Planilha de leiaute dos dados\n",
    "- 1 -> Planilha de depara municípios/Estado\n",
    "- 2-6 -> Planilhas de depara de CNAEs e Classes\n",
    "- 7 -> Planilha de Agrupamento por Regiões (Complexo)\n",
    "- 8-10 -> Planilha de depara de Bairros\n",
    "- 11-12 -> Parecem dispensáveis"
   ]
  },
  {
   "cell_type": "markdown",
   "metadata": {},
   "source": [
    "### Leitura dos arquivos\n",
    "Foi criado um ```pd.ExcelFile``` a fim de facilitar depois as chamadas"
   ]
  },
  {
   "cell_type": "code",
   "execution_count": null,
   "metadata": {
    "ExecuteTime": {
     "end_time": "2020-04-08T19:07:39.176908Z",
     "start_time": "2020-04-08T19:07:39.172919Z"
    }
   },
   "outputs": [],
   "source": [
    "columns = [['CBO94','Ocupação'],\n",
    "           ['CBO 2002 Ocupação','Ocupação'],\n",
    "           ['CNAE 2.0 Subclas','Subclasse'],\n",
    "           ['CNAE 2.0 Classe','Classe2'],\n",
    "           ['CNAE 1.0 Classe','Classe1']]"
   ]
  },
  {
   "cell_type": "code",
   "execution_count": null,
   "metadata": {
    "ExecuteTime": {
     "end_time": "2020-04-08T19:07:39.736220Z",
     "start_time": "2020-04-08T19:07:39.570506Z"
    }
   },
   "outputs": [],
   "source": [
    "xls = pd.ExcelFile('CAGED/CAGEDEST_layout_Atualizado.xls')\n",
    "sheets = xls.sheet_names"
   ]
  },
  {
   "cell_type": "code",
   "execution_count": null,
   "metadata": {
    "ExecuteTime": {
     "end_time": "2020-04-08T19:07:40.027284Z",
     "start_time": "2020-04-08T19:07:40.002350Z"
    }
   },
   "outputs": [],
   "source": [
    "# 0 - Planilha depara com informações gerais\n",
    "leiaute_geral = pd.read_excel(xls, sheet_name=sheets[0], skiprows=1)\n",
    "leiaute_geral.fillna(method='ffill', inplace=True)\n",
    "\n",
    "# Selecionando as colunas com variáveis categoricas do CAGEDEST\n",
    "col_num = [0,8,9,11,13,14,15,18,20,21,22,23,40,41]\n",
    "col_list = []\n",
    "\n",
    "for i in col_num:\n",
    "    col_list.append(leiaute_geral['Nome'].unique()[i])\n",
    "    \n",
    "leiaute_geral.loc[leiaute_geral['Valor na Fonte']=='{', 'Valor na Fonte'] = '-1'\n",
    "\n",
    "leiaute_geral['Valor na Fonte'] = leiaute_geral['Valor na Fonte'].replace('{','-1')"
   ]
  },
  {
   "cell_type": "code",
   "execution_count": null,
   "metadata": {
    "ExecuteTime": {
     "end_time": "2020-04-08T19:07:40.541837Z",
     "start_time": "2020-04-08T19:07:40.479818Z"
    }
   },
   "outputs": [],
   "source": [
    "# 1- Planilha depara municipios e estados\n",
    "leiaute_mun = pd.read_excel(xls, sheet_name='municipio')\n",
    "leiaute_mun = leiaute_mun['Município'].str.split(':',expand=True).rename(columns={0: \"cod_municipio\", 1: \"dummy\"})\n",
    "leiaute_mun = pd.concat([leiaute_mun,\n",
    "                         leiaute_mun['dummy'].str.split('-',1,expand=True)],\n",
    "                         axis=1).rename(columns={0: \"Estado\", 1: \"Municipio\"})\n",
    "leiaute_mun.drop(columns=['dummy'], inplace=True)\n",
    "leiaute_mun['Estado'] = leiaute_mun['Estado'].str.upper()\n",
    "leiaute_mun['cod_municipio'] = leiaute_mun['cod_municipio'].astype('int64')"
   ]
  },
  {
   "cell_type": "code",
   "execution_count": null,
   "metadata": {
    "ExecuteTime": {
     "end_time": "2020-04-08T19:07:40.946604Z",
     "start_time": "2020-04-08T19:07:40.876757Z"
    }
   },
   "outputs": [],
   "source": [
    "# 2 a 6 - Planilhas depara de CNAEs e Classes\n",
    "\n",
    "# Colocar em um loop algum dia\n",
    "leiaute_CBO = pd.read_excel(xls,sheet_name=sheets[2])\n",
    "leiaute_CBO2 = pd.read_excel(xls,sheet_name=sheets[3])\n",
    "leiaute_subcl = pd.read_excel(xls,sheet_name=sheets[4])\n",
    "leiaute_classe2 = pd.read_excel(xls,sheet_name=sheets[5])\n",
    "leiaute_classe1 = pd.read_excel(xls,sheet_name=sheets[6])\n",
    "\n",
    "leiautes_2_6 = [leiaute_CBO, leiaute_CBO2, leiaute_subcl, leiaute_classe2, leiaute_classe1]\n",
    "\n",
    "def tratamento_leiaute_1(leiaute1, index):\n",
    "    \n",
    "    leiaute = leiaute1.iloc[:,0].str.split(':',1,expand=True).rename(columns={0:columns[index][0], 1: columns[index][1]})\n",
    "\n",
    "    return leiaute\n",
    "\n",
    "for i,items in enumerate(leiautes_2_6):\n",
    "    leiautes_2_6[i] = tratamento_leiaute_1(items,i)"
   ]
  },
  {
   "cell_type": "code",
   "execution_count": null,
   "metadata": {
    "ExecuteTime": {
     "end_time": "2020-04-08T19:07:41.465319Z",
     "start_time": "2020-04-08T19:07:41.383401Z"
    }
   },
   "outputs": [],
   "source": [
    "# 2 a 6 - Planilhas depara de CNAEs e Classes\n",
    "\n",
    "# Colocar em um loop algum dia\n",
    "leiaute_CBO = pd.read_excel(xls,sheet_name=sheets[2])\n",
    "leiaute_CBO = leiaute_CBO.iloc[:,0].str.split(':',1,expand=True).rename(columns={0:columns[0][0], 1: columns[0][1]})\n",
    "leiaute_CBO.drop(columns=[leiaute_CBO.columns[0]],inplace=True)\n",
    "\n",
    "leiaute_CBO2 = pd.read_excel(xls,sheet_name=sheets[3])\n",
    "leiaute_CBO2 = leiaute_CBO2.iloc[:,0].str.split(':',1,expand=True).rename(columns={0:columns[1][0], 1: columns[1][1]})\n",
    "leiaute_CBO2['CBO 2002 Ocupação'] = leiaute_CBO2['CBO 2002 Ocupação'].astype('int64')\n",
    "\n",
    "leiaute_subcl = pd.read_excel(xls,sheet_name=sheets[4])\n",
    "leiaute_subcl = leiaute_subcl.iloc[:,0].str.split(':',1,expand=True).rename(columns={0:columns[2][0], 1: columns[2][1]})\n",
    "leiaute_subcl['CNAE 2.0 Subclas'] = leiaute_subcl['CNAE 2.0 Subclas'].astype('int64')\n",
    "\n",
    "leiaute_classe2 = pd.read_excel(xls,sheet_name=sheets[5])\n",
    "leiaute_classe2 = leiaute_classe2.iloc[:,0].str.split(':',1,expand=True).rename(columns={0:columns[3][0], 1: columns[3][1]})\n",
    "leiaute_classe2['CNAE 2.0 Classe'] = leiaute_classe2['CNAE 2.0 Classe'].astype('int64')\n",
    "\n",
    "leiaute_classe1 = pd.read_excel(xls,sheet_name=sheets[6])\n",
    "leiaute_classe1 = leiaute_classe1.iloc[:,0].str.split(':',1,expand=True).rename(columns={0:columns[4][0], 1: columns[4][1]})\n",
    "leiaute_classe1['CNAE 1.0 Classe'] = leiaute_classe1['CNAE 1.0 Classe'].astype('int64')"
   ]
  },
  {
   "cell_type": "code",
   "execution_count": null,
   "metadata": {
    "ExecuteTime": {
     "end_time": "2020-04-08T19:07:41.892708Z",
     "start_time": "2020-04-08T19:07:41.885697Z"
    }
   },
   "outputs": [],
   "source": [
    "colunas =   {'cod_mesorregiao':\"Mesorregião\", 'cod_microrregiao':'Microrregião', 'cod_reg_adm_rj':'Região Adm RJ',\n",
    "             'cod_reg_adm_sp':\"Região Adm SP\", 'cod_reg_gov_sp':'Região Gov SP', 'cod_reg_senai_sp':'Região Senai SP',\n",
    "             'cod_reg_senac_pr':\"Região Senac PR\", 'cod_reg_senai_pr':'Região Senai PR', \n",
    "             'cod_sub_reg_senai_pr':'Região Senai PR','cod_corede_04':\"Corede_04\", 'cod_corede':'Corede'}\n",
    "\n",
    "leiautes_7 = [['cod_mesorregiao','Mesorregião'],\n",
    "              ['cod_microrregiao','Microrregião'],\n",
    "              ['cod_reg_adm_rj','Região Adm RJ'],\n",
    "              ['cod_reg_adm_sp','Região Adm SP'],\n",
    "              ['cod_reg_gov_sp','Região Gov SP'],\n",
    "              ['cod_reg_senai_sp','Região Senai SP'],\n",
    "              ['cod_reg_senac_pr',\"Região Senac PR\"],\n",
    "              ['cod_reg_senai_pr','Região Senai PR'],\n",
    "              ['cod_sub_reg_senai_pr','Sub-Região Senai PR'], \n",
    "              ['cod_corede_04',\"Região Corede 04\"],\n",
    "              ['cod_corede','Região Corede']]"
   ]
  },
  {
   "cell_type": "code",
   "execution_count": null,
   "metadata": {
    "ExecuteTime": {
     "end_time": "2020-04-08T19:07:42.566786Z",
     "start_time": "2020-04-08T19:07:42.486828Z"
    }
   },
   "outputs": [],
   "source": [
    "# 7 - Planilhas com Regiões\n",
    "# Colocar em um loop algum dia\n",
    "leiaute_reg = pd.read_excel(xls, sheet_name = sheets[7])\n",
    "leiaute_reg.drop(columns=leiaute_reg.iloc[:,leiaute_reg.columns.str.contains('Unnamed*')], inplace=True)\n",
    "\n",
    "leiaute_meso = pd.DataFrame(leiaute_reg.iloc[:,0].copy().dropna())\n",
    "leiaute_meso = leiaute_meso.iloc[:,0].str.split(':',1,expand=True).rename(columns={0: leiautes_7[0][0],1:leiautes_7[0][1]})\n",
    "leiaute_meso['cod_mesorregiao']=leiaute_meso['cod_mesorregiao'].astype('int')\n",
    "\n",
    "leiaute_micro = pd.DataFrame(leiaute_reg.iloc[:,1].copy().dropna())\n",
    "leiaute_micro = leiaute_micro.iloc[:,0].str.split(':',1,expand=True).rename(columns={0: leiautes_7[1][0],1:leiautes_7[1][1]})\n",
    "leiaute_micro['cod_microrregiao']=leiaute_micro['cod_microrregiao'].astype('int')\n",
    "\n",
    "leiaute_reg_adm_rj = pd.DataFrame(leiaute_reg.iloc[:,2].copy().dropna())\n",
    "leiaute_reg_adm_rj = leiaute_reg_adm_rj.iloc[:,0].str.split(':',1,expand=True).rename(columns={0: leiautes_7[2][0],1:leiautes_7[2][1]})\n",
    "leiaute_reg_adm_rj['cod_reg_adm_rj']=leiaute_reg_adm_rj['cod_reg_adm_rj'].astype('int')\n",
    "\n",
    "leiaute_reg_adm_sp = pd.DataFrame(leiaute_reg.iloc[:,3].copy().dropna())\n",
    "leiaute_reg_adm_sp = leiaute_reg_adm_sp.iloc[:,0].str.split(':',1,expand=True).rename(columns={0: leiautes_7[3][0],1:leiautes_7[3][1]})\n",
    "leiaute_reg_adm_sp['cod_reg_adm_sp']=leiaute_reg_adm_sp['cod_reg_adm_sp'].astype('int')\n",
    "\n",
    "leiaute_reg_gov_sp = pd.DataFrame(leiaute_reg.iloc[:,4].copy().dropna())\n",
    "leiaute_reg_gov_sp = leiaute_reg_gov_sp.iloc[:,0].str.split(':',1,expand=True).rename(columns={0: leiautes_7[4][0],1:leiautes_7[4][1]})\n",
    "leiaute_reg_gov_sp['cod_reg_gov_sp']=leiaute_reg_gov_sp['cod_reg_gov_sp'].astype('int')\n",
    "\n",
    "leiaute_reg_senai_sp = pd.DataFrame(leiaute_reg.iloc[:,5].copy().dropna())\n",
    "leiaute_reg_senai_sp = leiaute_reg_senai_sp.iloc[:,0].str.split(':',1,expand=True).rename(columns={0: leiautes_7[5][0],1:leiautes_7[5][1]})\n",
    "leiaute_reg_senai_sp['cod_reg_senai_sp']=leiaute_reg_senai_sp['cod_reg_senai_sp'].astype('int')\n",
    "\n",
    "leiaute_reg_senac_pr = pd.DataFrame(leiaute_reg.iloc[:,6].copy().dropna())\n",
    "leiaute_reg_senac_pr = leiaute_reg_senac_pr.iloc[:,0].str.split(':',1,expand=True).rename(columns={0: leiautes_7[6][0],1:leiautes_7[6][1]})\n",
    "leiaute_reg_senac_pr['cod_reg_senac_pr']=leiaute_reg_senac_pr['cod_reg_senac_pr'].astype('int')\n",
    "\n",
    "leiaute_reg_senai_pr = pd.DataFrame(leiaute_reg.iloc[:,7].copy().dropna())\n",
    "leiaute_reg_senai_pr = leiaute_reg_senai_pr.iloc[:,0].str.split(':',1,expand=True).rename(columns={0: leiautes_7[7][0],1:leiautes_7[7][1]})\n",
    "leiaute_reg_senai_pr['cod_reg_senai_pr']=leiaute_reg_senai_pr['cod_reg_senai_pr'].astype('int')\n",
    "\n",
    "leiaute_sub_reg_senai_pr = pd.DataFrame(leiaute_reg.iloc[:,8].copy().dropna())\n",
    "leiaute_sub_reg_senai_pr = leiaute_sub_reg_senai_pr.iloc[:,0].str.split(':',1,expand=True).rename(columns={0: leiautes_7[8][0],1:leiautes_7[8][1]})\n",
    "leiaute_sub_reg_senai_pr['cod_sub_reg_senai_pr']=leiaute_sub_reg_senai_pr['cod_sub_reg_senai_pr'].astype('int')\n",
    "\n",
    "leiaute_corede_04 = pd.DataFrame(leiaute_reg.iloc[:,9].copy().dropna())\n",
    "leiaute_corede_04 = leiaute_corede_04.iloc[:,0].str.split(':',1,expand=True).rename(columns={0: leiautes_7[9][0],1:leiautes_7[9][1]})\n",
    "leiaute_corede_04['cod_corede_04']=leiaute_corede_04['cod_corede_04'].astype('int')\n",
    "\n",
    "leiaute_corede = pd.DataFrame(leiaute_reg.iloc[:,10].copy().dropna())\n",
    "leiaute_corede = leiaute_corede.iloc[:,0].str.split(':',1,expand=True).rename(columns={0: leiautes_7[10][0],1:leiautes_7[10][1]})\n",
    "leiaute_corede['cod_corede']=leiaute_corede['cod_corede'].astype('int')"
   ]
  },
  {
   "cell_type": "code",
   "execution_count": null,
   "metadata": {
    "ExecuteTime": {
     "end_time": "2020-04-08T19:07:43.356159Z",
     "start_time": "2020-04-08T19:07:43.323217Z"
    }
   },
   "outputs": [],
   "source": [
    "# 8 a 10 - Planilhas de depara de Bairros SP, Fortaleza e RJ\n",
    "leiaute_sp = pd.read_excel(xls, sheet_name=sheets[8], skiprows=1)\n",
    "leiaute_sp['Valor na Fonte'] = leiaute_sp['Valor na Fonte'].astype('int')\n",
    "\n",
    "leiaute_fort = pd.read_excel(xls, sheet_name=sheets[9], skiprows=1)\n",
    "leiaute_fort['Valor na Fonte'] = leiaute_fort['Valor na Fonte'].astype('int')\n",
    "\n",
    "leiaute_rj = pd.read_excel(xls, sheet_name=sheets[10], skiprows=1)\n",
    "leiaute_rj['Valor na Fonte'] = leiaute_rj['Valor na Fonte'].astype('int')"
   ]
  },
  {
   "cell_type": "code",
   "execution_count": null,
   "metadata": {
    "ExecuteTime": {
     "end_time": "2020-04-08T19:07:43.845736Z",
     "start_time": "2020-04-08T19:07:43.825792Z"
    }
   },
   "outputs": [],
   "source": [
    "# 11 - Planilhas de depara de Distritos SP e DF\n",
    "leiaute_sp_d = pd.read_excel(xls, sheet_name=sheets[11], names=('cod_dist','Distrito'), header=None)\n",
    "leiaute_sp_d['cod_dist'] = leiaute_sp_d['cod_dist'].apply(lambda x: x.replace('{ñ class}','0')).astype('int')\n",
    "\n",
    "leiaute_df = pd.read_excel(xls, sheet_name=sheets[12], names=('cod_dist','Distrito'))\n",
    "leiaute_df['cod_dist'] = leiaute_df['cod_dist'].apply(lambda x: x.replace('{ñ class}','0')).astype('int')\n",
    "leiaute_df['Distrito'] = leiaute_df['Distrito'].apply(lambda x: x.replace('{ñ class}','NAO SE APLICA'))"
   ]
  },
  {
   "cell_type": "markdown",
   "metadata": {},
   "source": [
    "### Leitura dos Arquivos CAGEDEST"
   ]
  },
  {
   "cell_type": "code",
   "execution_count": null,
   "metadata": {
    "ExecuteTime": {
     "end_time": "2020-04-08T02:01:14.676883Z",
     "start_time": "2020-04-08T02:01:00.786447Z"
    }
   },
   "outputs": [],
   "source": [
    "# Leitura dos Arquivos\n",
    "df = pd.read_csv('CAGED/CAGEDEST_012007.txt', encoding='Latin-1', sep=';',decimal=',', low_memory=False)"
   ]
  },
  {
   "cell_type": "code",
   "execution_count": null,
   "metadata": {
    "ExecuteTime": {
     "end_time": "2020-04-08T02:03:10.220344Z",
     "start_time": "2020-04-08T02:01:14.679859Z"
    }
   },
   "outputs": [],
   "source": [
    "convert_dict = {'Salário Mensal':'float', 'Tempo Emprego':'float', 'Bairros SP':'int','Bairros Fortaleza':'int',\n",
    "               'Bairros RJ':'int','Distritos SP':'int','Região Adm RJ':'int','Região Adm SP':'int','Região Corede':'int',\n",
    "               'Região Corede 04':'int','Região Gov SP':'int','Região Senac PR':'int','Região Senai PR':'int',\n",
    "                'Região Senai SP':'int','Sub-Região Senai PR':'int','CBO 2002 Ocupação':'int','CNAE 1.0 Classe':'int',\n",
    "                'CNAE 2.0 Classe':'int', 'CNAE 2.0 Subclas':'int', 'Distritos SP':'int','Regiões Adm DF':'int'}\n",
    "\n",
    "df = df.replace(['^{ñ.*','^\\*+','^\\d+\\-'],'0',regex=True).astype(convert_dict)"
   ]
  },
  {
   "cell_type": "markdown",
   "metadata": {},
   "source": [
    "### Aplicação dos deparas na tabela do CAGEDEST"
   ]
  },
  {
   "cell_type": "code",
   "execution_count": null,
   "metadata": {
    "ExecuteTime": {
     "end_time": "2020-04-08T02:03:18.133716Z",
     "start_time": "2020-04-08T02:03:10.222341Z"
    }
   },
   "outputs": [],
   "source": [
    "# Junção das primeiras colunas\n",
    "df = pd.merge(left=df, right=leiaute_mun, how='left', left_on=['Município'], right_on=['cod_municipio'], copy=False)\n",
    "df = pd.merge(left=df, right=leiaute_CBO2, how='left',on=['CBO 2002 Ocupação'], copy=False)\n",
    "df = pd.merge(left=df, right=leiaute_classe1, how='left',on=['CNAE 1.0 Classe'], copy=False)\n",
    "df = pd.merge(left=df, right=leiaute_classe2, how='left',on=['CNAE 2.0 Classe'], copy=False)\n",
    "df = pd.merge(left=df, right=leiaute_subcl, how='left',on=['CNAE 2.0 Subclas'], copy=False)"
   ]
  },
  {
   "cell_type": "code",
   "execution_count": null,
   "metadata": {
    "ExecuteTime": {
     "end_time": "2020-04-08T02:03:22.310957Z",
     "start_time": "2020-04-08T02:03:18.137680Z"
    }
   },
   "outputs": [],
   "source": [
    "# Junção das colunas de Bairro\n",
    "df = pd.merge(left=df, right=leiaute_sp, how='left',\n",
    "              left_on=['Bairros SP'], right_on=['Valor na Fonte'],\n",
    "              suffixes=('','_sp'), copy=False)#.drop(columns=['Valor na Fonte'], inplace=True)\n",
    "\n",
    "df = pd.merge(left=df, right=leiaute_fort, how='left',\n",
    "              left_on=['Bairros Fortaleza'], right_on=['Valor na Fonte'],\n",
    "              suffixes=('','_fort'), copy=False)#.drop(columns=['Valor na Fonte'], inplace=True)\n",
    "\n",
    "df = pd.merge(left=df, right=leiaute_rj, how='left',\n",
    "              left_on=['Bairros RJ'], right_on=['Valor na Fonte'],\n",
    "              suffixes=('','_rj'), copy=False)#.drop(columns=['Valor na Fonte'], inplace=True)"
   ]
  },
  {
   "cell_type": "code",
   "execution_count": null,
   "metadata": {
    "ExecuteTime": {
     "end_time": "2020-04-08T02:03:25.452798Z",
     "start_time": "2020-04-08T02:03:22.312951Z"
    }
   },
   "outputs": [],
   "source": [
    "# Junção das colunas de Distrito\n",
    "df = pd.merge(left=df, right=leiaute_sp_d, how='left',\n",
    "              left_on=['Distritos SP'], right_on=['cod_dist'],\n",
    "              suffixes=('','_dist_sp'), copy=False)\n",
    "\n",
    "df = pd.merge(left=df, right=leiaute_df, how='left',\n",
    "              left_on=['Regiões Adm DF'], right_on=['cod_dist'],\n",
    "              suffixes=('','_dist_df'), copy=False)"
   ]
  },
  {
   "cell_type": "code",
   "execution_count": null,
   "metadata": {
    "ExecuteTime": {
     "end_time": "2020-04-08T02:03:53.376181Z",
     "start_time": "2020-04-08T02:03:25.455758Z"
    }
   },
   "outputs": [],
   "source": [
    "sub = ['Admitidos/Desligados', 'Faixa Empr Início Jan','Grau Instrução',\n",
    "       'IBGE Subsetor','Ind Aprendiz','Ind Portador Defic', 'Raça Cor','Sexo','Tipo Estab',\n",
    "       'Tipo Defic','Tipo Mov Desagregado','UF','Ind Trab Parcial','Ind Trab Intermitente']\n",
    "\n",
    "for i,col in enumerate(col_list):\n",
    "    temp_df = leiaute_geral[leiaute_geral['Nome']==col][['Nome','Categorias','Valor na Fonte']]\n",
    "    try:\n",
    "        df[sub[i]] = df[sub[i]].astype('int') \n",
    "        temp_df['Valor na Fonte'] = temp_df['Valor na Fonte'].astype('int')\n",
    "        df = pd.merge(left=df, right=temp_df,\n",
    "                      left_on=[sub[i]], right_on=['Valor na Fonte'],\n",
    "                      suffixes=('',col), copy=False)\n",
    "        print('{} Ok'.format(sub[i]))\n",
    "    except:\n",
    "        print('{} não ok'.format(sub[i]))"
   ]
  },
  {
   "cell_type": "code",
   "execution_count": null,
   "metadata": {
    "ExecuteTime": {
     "end_time": "2020-04-08T02:04:27.428456Z",
     "start_time": "2020-04-08T02:03:53.379172Z"
    }
   },
   "outputs": [],
   "source": [
    "tabelas = [[leiaute_meso,'cod_mesorregiao','Mesorregião'],\n",
    "           [leiaute_micro,'cod_microrregiao','Microrregião'],\n",
    "           [leiaute_reg_adm_rj,'cod_reg_adm_rj','Região Adm RJ'],\n",
    "           [leiaute_reg_adm_sp,'cod_reg_adm_sp','Região Adm SP'],\n",
    "           [leiaute_reg_gov_sp,'cod_reg_gov_sp','Região Gov SP'],\n",
    "           [leiaute_reg_senai_sp,'cod_reg_senai_sp','Região Senai SP'],\n",
    "           [leiaute_reg_senac_pr,'cod_reg_senac_pr',\"Região Senac PR\"],\n",
    "           [leiaute_reg_senai_pr,'cod_reg_senai_pr','Região Senai PR'],\n",
    "           [leiaute_sub_reg_senai_pr,'cod_sub_reg_senai_pr','Sub-Região Senai PR'], \n",
    "           [leiaute_corede_04,'cod_corede_04',\"Região Corede 04\"],\n",
    "           [leiaute_corede,'cod_corede','Região Corede']]\n",
    "\n",
    "for i,item in enumerate(tabelas):\n",
    "    df = pd.merge(left=df, right=item[0], how='left',\n",
    "              left_on=[item[2]], right_on=[item[1]], copy=False)"
   ]
  },
  {
   "cell_type": "markdown",
   "metadata": {},
   "source": [
    "## Limpeza final da tabela"
   ]
  },
  {
   "cell_type": "code",
   "execution_count": null,
   "metadata": {
    "ExecuteTime": {
     "end_time": "2020-04-08T02:04:34.071002Z",
     "start_time": "2020-04-08T02:04:27.431449Z"
    }
   },
   "outputs": [],
   "source": [
    "df['Competência Declarada'] = df['Competência Declarada'].astype('object')\n",
    "df = df.select_dtypes('object').copy()\n",
    "\n",
    "drop_cols = []\n",
    "[drop_cols.append(col) for col in df.columns if 'cod_' in col]\n",
    "[drop_cols.append(col) for col in df.columns if 'Nome' in col]\n",
    "\n",
    "df.drop(columns=drop_cols, inplace=True)"
   ]
  },
  {
   "cell_type": "code",
   "execution_count": null,
   "metadata": {
    "ExecuteTime": {
     "end_time": "2020-04-08T02:04:36.147226Z",
     "start_time": "2020-04-08T02:04:34.073995Z"
    }
   },
   "outputs": [],
   "source": [
    "# Renomeação das colunas\n",
    "subs = {'Classe1':'CNAE1.0', 'Classe2':'CNAE2.0',\n",
    "        'Subclasse':'Subclasse_CNAE2.0', 'Categorias':'Bairro_SP', 'Descrição':'Bairro_SP_desc',\n",
    "        'Categorias_fort':'Bairro_Fortaleza', 'Descrição_fot':'Bairro_Fortaleza_desc',\n",
    "        'Categorias_rj':'Bairro_RJ', 'Descrição_rj':'Bairro_RJ_desc', 'Distrito':'Distrito_SP',\n",
    "        'Distrito_dist_df':'Distrito_DF', 'Mesorregião_y':'Mesorregião', 'Microrregião_y':'Microrregião'}\n",
    "\n",
    "df.rename(subs, axis=1, inplace=True)\n",
    "df.rename(columns=lambda x: x.replace('Categorias',''), inplace=True)\n",
    "df.rename(columns=lambda x: x.replace('_y',''), inplace=True)"
   ]
  },
  {
   "cell_type": "markdown",
   "metadata": {},
   "source": [
    "# Exportação"
   ]
  },
  {
   "cell_type": "code",
   "execution_count": null,
   "metadata": {},
   "outputs": [],
   "source": [
    "# Gerando arquivo CSV sem índices\n",
    "df.to_csv('path/cagedest.csv',index=False)"
   ]
  },
  {
   "cell_type": "markdown",
   "metadata": {
    "ExecuteTime": {
     "end_time": "2020-04-01T00:37:28.283109Z",
     "start_time": "2020-04-01T00:37:28.273110Z"
    }
   },
   "source": [
    "# Versão Resumida"
   ]
  },
  {
   "cell_type": "code",
   "execution_count": null,
   "metadata": {
    "ExecuteTime": {
     "end_time": "2020-04-08T19:07:53.710495Z",
     "start_time": "2020-04-08T19:07:53.697500Z"
    }
   },
   "outputs": [],
   "source": [
    "lista = glob('CAGED/CAGEDEST_*.txt')"
   ]
  },
  {
   "cell_type": "code",
   "execution_count": null,
   "metadata": {
    "ExecuteTime": {
     "end_time": "2020-04-08T19:07:54.173226Z",
     "start_time": "2020-04-08T19:07:54.145300Z"
    }
   },
   "outputs": [],
   "source": [
    "def tratamento(filepath):\n",
    "    \n",
    "    df = pd.read_csv(filepath, encoding='Latin-1', sep=';',decimal=',', low_memory=False)\n",
    "    # Tratamento inicial das colunas do arquivo\n",
    "    convert_dict = {'Salário Mensal':'float', 'Tempo Emprego':'float', 'Bairros SP':'int','Bairros Fortaleza':'int',\n",
    "                   'Bairros RJ':'int','Distritos SP':'int','Região Adm RJ':'int','Região Adm SP':'int','Região Corede':'int',\n",
    "                   'Região Corede 04':'int','Região Gov SP':'int','Região Senac PR':'int','Região Senai PR':'int',\n",
    "                    'Região Senai SP':'int','Sub-Região Senai PR':'int','CBO 2002 Ocupação':'int','CNAE 1.0 Classe':'int',\n",
    "                    'CNAE 2.0 Classe':'int', 'CNAE 2.0 Subclas':'int', 'Distritos SP':'int','Regiões Adm DF':'int'}\n",
    "\n",
    "    df = df.replace(['^{ñ.*','^\\*+','^\\d+\\-'],'0',regex=True).astype(convert_dict)\n",
    "    \n",
    "    # Junção das primeiras colunas\n",
    "    df = pd.merge(left=df, right=leiaute_mun, how='left', left_on=['Município'], right_on=['cod_municipio'], copy=False)\n",
    "    df = pd.merge(left=df, right=leiaute_CBO2, how='left',on=['CBO 2002 Ocupação'], copy=False)\n",
    "    df = pd.merge(left=df, right=leiaute_classe1, how='left',on=['CNAE 1.0 Classe'], copy=False)\n",
    "    df = pd.merge(left=df, right=leiaute_classe2, how='left',on=['CNAE 2.0 Classe'], copy=False)\n",
    "    df = pd.merge(left=df, right=leiaute_subcl, how='left',on=['CNAE 2.0 Subclas'], copy=False)\n",
    "\n",
    "    # Junção das colunas de Bairro\n",
    "    df = pd.merge(left=df, right=leiaute_sp, how='left',\n",
    "                  left_on=['Bairros SP'], right_on=['Valor na Fonte'],\n",
    "                  suffixes=('','_sp'), copy=False)#.drop(columns=['Valor na Fonte'], inplace=True)\n",
    "\n",
    "    df = pd.merge(left=df, right=leiaute_fort, how='left',\n",
    "                  left_on=['Bairros Fortaleza'], right_on=['Valor na Fonte'],\n",
    "                  suffixes=('','_fort'), copy=False)#.drop(columns=['Valor na Fonte'], inplace=True)\n",
    "\n",
    "    df = pd.merge(left=df, right=leiaute_rj, how='left',\n",
    "                  left_on=['Bairros RJ'], right_on=['Valor na Fonte'],\n",
    "                  suffixes=('','_rj'), copy=False)#.drop(columns=['Valor na Fonte'], inplace=True)\n",
    "\n",
    "    # Junção das colunas de Distrito\n",
    "    df = pd.merge(left=df, right=leiaute_sp_d, how='left',\n",
    "                  left_on=['Distritos SP'], right_on=['cod_dist'],\n",
    "                  suffixes=('','_dist_sp'), copy=False)\n",
    "\n",
    "    df = pd.merge(left=df, right=leiaute_df, how='left',\n",
    "                  left_on=['Regiões Adm DF'], right_on=['cod_dist'],\n",
    "                  suffixes=('','_dist_df'), copy=False)\n",
    "\n",
    "    sub = ['Admitidos/Desligados', 'Faixa Empr Início Jan','Grau Instrução',\n",
    "           'IBGE Subsetor','Ind Aprendiz','Ind Portador Defic', 'Raça Cor','Sexo','Tipo Estab',\n",
    "           'Tipo Defic','Tipo Mov Desagregado','UF','Ind Trab Parcial','Ind Trab Intermitente']\n",
    "\n",
    "    for i,col in enumerate(col_list):\n",
    "        temp_df = leiaute_geral[leiaute_geral['Nome']==col][['Nome','Categorias','Valor na Fonte']]\n",
    "        try:\n",
    "            df[sub[i]] = df[sub[i]].astype('int') \n",
    "            temp_df['Valor na Fonte'] = temp_df['Valor na Fonte'].astype('int')\n",
    "            df = pd.merge(left=df, right=temp_df,\n",
    "                          left_on=[sub[i]], right_on=['Valor na Fonte'],\n",
    "                          suffixes=('',col), copy=False)\n",
    "        except:\n",
    "            print('{} não ok, arquivo {}'.format(sub[i], filepath))\n",
    "\n",
    "    # Junção das colunas de região\n",
    "    tabelas = [[leiaute_meso,'cod_mesorregiao','Mesorregião'],\n",
    "               [leiaute_micro,'cod_microrregiao','Microrregião'],\n",
    "               [leiaute_reg_adm_rj,'cod_reg_adm_rj','Região Adm RJ'],\n",
    "               [leiaute_reg_adm_sp,'cod_reg_adm_sp','Região Adm SP'],\n",
    "               [leiaute_reg_gov_sp,'cod_reg_gov_sp','Região Gov SP'],\n",
    "               [leiaute_reg_senai_sp,'cod_reg_senai_sp','Região Senai SP'],\n",
    "               [leiaute_reg_senac_pr,'cod_reg_senac_pr',\"Região Senac PR\"],\n",
    "               [leiaute_reg_senai_pr,'cod_reg_senai_pr','Região Senai PR'],\n",
    "               [leiaute_sub_reg_senai_pr,'cod_sub_reg_senai_pr','Sub-Região Senai PR'], \n",
    "               [leiaute_corede_04,'cod_corede_04',\"Região Corede 04\"],\n",
    "               [leiaute_corede,'cod_corede','Região Corede']]\n",
    "\n",
    "    for i,item in enumerate(tabelas):\n",
    "        df = pd.merge(left=df, right=item[0], how='left',\n",
    "                  left_on=[item[2]], right_on=[item[1]], copy=False)\n",
    "\n",
    "    # Limpeza da tabela, eliminação de colunas que estão sobrando e colunas com códigos\n",
    "\n",
    "    df['Competência Declarada'] = df['Competência Declarada'].astype('object')\n",
    "    df = df.select_dtypes('object').copy()\n",
    "\n",
    "    drop_cols = []\n",
    "    [drop_cols.append(col) for col in df.columns if 'cod_' in col]\n",
    "    [drop_cols.append(col) for col in df.columns if 'Nome' in col]\n",
    "\n",
    "    df.drop(columns=drop_cols, inplace=True)\n",
    "\n",
    "    # Renomeação das colunas\n",
    "    subs = {'Classe1':'CNAE1.0', 'Classe2':'CNAE2.0',\n",
    "            'Subclasse':'Subclasse_CNAE2.0', 'Categorias':'Bairro_SP', 'Descrição':'Bairro_SP_desc',\n",
    "            'Categorias_fort':'Bairro_Fortaleza', 'Descrição_fot':'Bairro_Fortaleza_desc',\n",
    "            'Categorias_rj':'Bairro_RJ', 'Descrição_rj':'Bairro_RJ_desc', 'Distrito':'Distrito_SP',\n",
    "            'Distrito_dist_df':'Distrito_DF', 'Mesorregião_y':'Mesorregião', 'Microrregião_y':'Microrregião'}\n",
    "\n",
    "    df.rename(subs, axis=1, inplace=True)\n",
    "    df.rename(columns=lambda x: x.replace('Categorias',''), inplace=True)\n",
    "    df.rename(columns=lambda x: x.replace('_y',''), inplace=True)\n",
    "    \n",
    "    return df"
   ]
  },
  {
   "cell_type": "code",
   "execution_count": null,
   "metadata": {
    "ExecuteTime": {
     "end_time": "2020-04-08T19:43:41.965005Z",
     "start_time": "2020-04-08T19:07:55.584642Z"
    },
    "scrolled": true
   },
   "outputs": [],
   "source": [
    "tabelao = pd.DataFrame()\n",
    "\n",
    "for filepath in tqdm(lista):\n",
    "    tab = tratamento(filepath)\n",
    "    tab.to_csv(filepath.split('.')[0]+'.csv',index=False)\n",
    "    tabelao.append(tab)"
   ]
  },
  {
   "cell_type": "code",
   "execution_count": null,
   "metadata": {},
   "outputs": [],
   "source": []
  }
 ],
 "metadata": {
  "kernelspec": {
   "display_name": "Python 3",
   "language": "python",
   "name": "python3"
  },
  "language_info": {
   "codemirror_mode": {
    "name": "ipython",
    "version": 3
   },
   "file_extension": ".py",
   "mimetype": "text/x-python",
   "name": "python",
   "nbconvert_exporter": "python",
   "pygments_lexer": "ipython3",
   "version": "3.6.5"
  },
  "toc": {
   "base_numbering": 1,
   "nav_menu": {},
   "number_sections": true,
   "sideBar": true,
   "skip_h1_title": false,
   "title_cell": "Table of Contents",
   "title_sidebar": "Contents",
   "toc_cell": true,
   "toc_position": {
    "height": "calc(100% - 180px)",
    "left": "10px",
    "top": "150px",
    "width": "165px"
   },
   "toc_section_display": true,
   "toc_window_display": true
  }
 },
 "nbformat": 4,
 "nbformat_minor": 2
}
